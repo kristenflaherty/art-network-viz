{
 "cells": [
  {
   "cell_type": "markdown",
   "metadata": {},
   "source": [
    "# Retrieving artist/artwork/gene data from Artsy API (json format)"
   ]
  },
  {
   "cell_type": "code",
   "execution_count": null,
   "metadata": {},
   "outputs": [],
   "source": [
    "import requests\n",
    "import json"
   ]
  },
  {
   "cell_type": "code",
   "execution_count": null,
   "metadata": {},
   "outputs": [],
   "source": [
    "#CLIENT INFO UPON SIGNING UP FOR API\n",
    "client_id = '02eec47d1e2db7f35ee6'\n",
    "client_secret = '5e0be59fb0e02a34312e9848bcb29164'\n",
    "\n",
    "# initiate the request to get the token \n",
    "r = requests.post(\"https://api.artsy.net/api/tokens/xapp_token\",\n",
    "                  data={\n",
    "                      \"client_id\": client_id,\n",
    "                      \"client_secret\": client_secret\n",
    "                  })\n",
    "\n",
    "# parse the server response \n",
    "j = json.loads(r.text)\n",
    "\n",
    "# extract the token \n",
    "token = j[\"token\"]\n",
    "\n",
    "#inegrate token into url get requests\n",
    "headers = {\"X-Xapp-Token\": token}\n",
    "\n",
    "#testing to see if /artists/{id} will generate more artist ids\n",
    "count_url = 'https://api.artsy.net/api/artists?cursor=valentien-anna%3A5a440757275b243650076056'\n",
    "artist = requests.get(count_url, headers = headers)\n",
    "\n",
    "#format json and load text\n",
    "j3 = json.loads(artist.text)"
   ]
  },
  {
   "cell_type": "code",
   "execution_count": null,
   "metadata": {},
   "outputs": [],
   "source": [
    "#to check layout/evaluate format\n",
    "artistdata = j3['_embedded']['artists']\n",
    "\n",
    "print(artistdata)"
   ]
  },
  {
   "cell_type": "code",
   "execution_count": null,
   "metadata": {},
   "outputs": [],
   "source": [
    "#Function 1: Next_URL\n",
    "#function to assign href next url as the target url, save this new url\n",
    "\n",
    "def nexturl(source):\n",
    "    \n",
    "    #assign value to next_url to target in next function\n",
    "    next_url = source['_links']['next']['href']\n",
    "    \n",
    "    #give back this new URL to use in function to get new batch of artist information\n",
    "    return next_url"
   ]
  }
 ],
 "metadata": {
  "kernelspec": {
   "display_name": "Python 3",
   "language": "python",
   "name": "python3"
  },
  "language_info": {
   "codemirror_mode": {
    "name": "ipython",
    "version": 3
   },
   "file_extension": ".py",
   "mimetype": "text/x-python",
   "name": "python",
   "nbconvert_exporter": "python",
   "pygments_lexer": "ipython3",
   "version": "3.7.3"
  }
 },
 "nbformat": 4,
 "nbformat_minor": 2
}
