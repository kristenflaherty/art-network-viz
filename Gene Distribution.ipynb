{
 "cells": [
  {
   "cell_type": "markdown",
   "metadata": {},
   "source": [
    "# Gene Distribution"
   ]
  },
  {
   "cell_type": "code",
   "execution_count": 1,
   "metadata": {},
   "outputs": [],
   "source": [
    "%matplotlib inline"
   ]
  },
  {
   "cell_type": "code",
   "execution_count": 2,
   "metadata": {},
   "outputs": [],
   "source": [
    "import pandas as pd\n",
    "import numpy as np\n",
    "import statistics as stats\n",
    "\n",
    "import matplotlib.pylab as plt\n",
    "import seaborn as sns\n",
    "sns.set_style('white')"
   ]
  },
  {
   "cell_type": "code",
   "execution_count": 3,
   "metadata": {},
   "outputs": [],
   "source": [
    "genesdf = pd.read_csv('genes.csv')"
   ]
  },
  {
   "cell_type": "code",
   "execution_count": 4,
   "metadata": {},
   "outputs": [],
   "source": [
    "df = pd.read_csv('artists_2.csv')"
   ]
  },
  {
   "cell_type": "code",
   "execution_count": 5,
   "metadata": {},
   "outputs": [
    {
     "data": {
      "text/plain": [
       "Index(['Gene_types'], dtype='object')"
      ]
     },
     "execution_count": 5,
     "metadata": {},
     "output_type": "execute_result"
    }
   ],
   "source": [
    "genesdf.columns"
   ]
  },
  {
   "cell_type": "code",
   "execution_count": 4,
   "metadata": {},
   "outputs": [],
   "source": [
    "genesdf['Gene_types'] = genesdf['Gene_types'].replace('Black-and-White Photography', 'Black and White')"
   ]
  },
  {
   "cell_type": "code",
   "execution_count": 6,
   "metadata": {},
   "outputs": [],
   "source": [
    "gene_combos = []\n",
    "for i in range(df.shape[0]):\n",
    "    if type(df.at[i, 'gene_types']) == str:\n",
    "        if len(df.at[i, 'gene_types']) > 34:\n",
    "            gene_combos.append(df.at[i, 'gene_types'])"
   ]
  },
  {
   "cell_type": "code",
   "execution_count": 7,
   "metadata": {},
   "outputs": [],
   "source": [
    "genesplot = genesdf['Gene_types'].values\n",
    "genes_dist=genesdf.Gene_types.value_counts()"
   ]
  },
  {
   "cell_type": "code",
   "execution_count": 8,
   "metadata": {},
   "outputs": [],
   "source": [
    "for i in range(len(gene_combos)):\n",
    "    gene_combos[i] = gene_combos[i].split(';')"
   ]
  },
  {
   "cell_type": "code",
   "execution_count": 79,
   "metadata": {},
   "outputs": [],
   "source": [
    "lengths = [len(combo) for combo in gene_combos]"
   ]
  },
  {
   "cell_type": "code",
   "execution_count": 9,
   "metadata": {},
   "outputs": [
    {
     "data": {
      "text/plain": [
       "25493"
      ]
     },
     "execution_count": 9,
     "metadata": {},
     "output_type": "execute_result"
    }
   ],
   "source": [
    "len(gene_combos)"
   ]
  },
  {
   "cell_type": "code",
   "execution_count": 10,
   "metadata": {},
   "outputs": [],
   "source": [
    "total_genes_distinct = []\n",
    "for group in gene_combos:\n",
    "    for gene in group:\n",
    "        if gene not in total_genes_distinct:\n",
    "            total_genes_distinct.append(gene)"
   ]
  },
  {
   "cell_type": "code",
   "execution_count": 43,
   "metadata": {},
   "outputs": [],
   "source": [
    "genestest=genes_dist.sort_values(ascending=False)\n",
    "#get the top 20 distinct values and their counts\n",
    "genes_lim=genestest.iloc[0:20]\n",
    "#exclude Nan or not json readable\n",
    "genes_lim_no_blank = genestest.iloc[2:22]"
   ]
  },
  {
   "cell_type": "code",
   "execution_count": 54,
   "metadata": {},
   "outputs": [
    {
     "data": {
      "text/plain": [
       "Abstract Art                        6695\n",
       "Black and White                     2252\n",
       "Bright and Vivid Colors             2110\n",
       "Figurative Art                      2107\n",
       "Animals                             1962\n",
       "Color Photography                   1819\n",
       "Collective History                  1428\n",
       "Contemporary Conceptualism          1294\n",
       "Appropriation                       1136\n",
       "Drawing                             1049\n",
       "Figurative Painting                 1048\n",
       "Collage                              902\n",
       "Cultural Commentary                  817\n",
       "Design                               792\n",
       "Contemporary Surrealistic            727\n",
       "Assemblage                           627\n",
       "Biomorphic                           609\n",
       "Blurred                              551\n",
       "Ceramic                              524\n",
       "Contemporary Academic Realism        510\n",
       "Cityscapes                           500\n",
       "Advertising and Brands               496\n",
       "Allover Composition                  482\n",
       "Body Parts                           481\n",
       "Americana                            473\n",
       "Architecture's Effects               466\n",
       "Childhood                            459\n",
       "Comic/Cartoon                        446\n",
       "Celebrity                            429\n",
       "Collaborations and Collectives       398\n",
       "                                    ... \n",
       "Baroque                              167\n",
       "Aerial View                          167\n",
       "Etching/Engraving                    167\n",
       "Contemporary Fact versus Fiction     166\n",
       "Aluminum                             165\n",
       "Focus on Materials                   161\n",
       "Erotic                               158\n",
       "Crowds                               158\n",
       "Face                                 157\n",
       "Dense Composition                    155\n",
       "Color Theory                         151\n",
       "Adolescence                          150\n",
       "En plein air                         148\n",
       "Carving                              147\n",
       "Attenuated Figure                    147\n",
       "Highly Detailed                      143\n",
       "Dark Colors                          141\n",
       "Installation                         141\n",
       "Landscapes                           141\n",
       "Allegory                             140\n",
       "Conflict                             138\n",
       "Bulbous                              138\n",
       "Bedrooms and Bathrooms               127\n",
       "Abstract Expressionism               122\n",
       "Contour Line                         114\n",
       "Digital Culture                      114\n",
       "Alter Egos and Avatars               114\n",
       "Caricatures and Parody               113\n",
       "Bowl                                 106\n",
       "Figurative Sculpture                 104\n",
       "Name: Gene_types, Length: 101, dtype: int64"
      ]
     },
     "execution_count": 54,
     "metadata": {},
     "output_type": "execute_result"
    }
   ],
   "source": [
    "genes_100 = genestest.iloc[0:101]\n",
    "genes_100"
   ]
  },
  {
   "cell_type": "code",
   "execution_count": 45,
   "metadata": {},
   "outputs": [
    {
     "name": "stdout",
     "output_type": "stream",
     "text": [
      "501 distinct genes, ignoring time and geographic loc\n"
     ]
    }
   ],
   "source": [
    "print(len(genes_dist), 'distinct genes, ignoring time and geographic loc')"
   ]
  },
  {
   "cell_type": "code",
   "execution_count": 46,
   "metadata": {},
   "outputs": [
    {
     "data": {
      "text/plain": [
       "Text(0.5, 1.0, 'Top 20 Gene types')"
      ]
     },
     "execution_count": 46,
     "metadata": {},
     "output_type": "execute_result"
    },
    {
     "data": {
      "image/png": "[encoded data removed]",
      "text/plain": [
       "<Figure size 1440x360 with 1 Axes>"
      ]
     },
     "metadata": {},
     "output_type": "display_data"
    }
   ],
   "source": [
    "#genes distribution with seaborn - top 20 genes\n",
    "gene_names = list(genes_lim.index)\n",
    "gene_count = genes_lim.values\n",
    "plt.figure(figsize=(20,5))\n",
    "graph = sns.barplot(x = gene_names, y=gene_count, color = \"#288AD3\")\n",
    "graph.set_xlabel('Gene type')\n",
    "graph.set_xticklabels(gene_names, rotation=90)\n",
    "graph.set_ylabel('Count')\n",
    "plt.title('Top 20 Gene types, ignoring time and geography-specific genes')"
   ]
  }
 ],
 "metadata": {
  "kernelspec": {
   "display_name": "Python 3",
   "language": "python",
   "name": "python3"
  },
  "language_info": {
   "codemirror_mode": {
    "name": "ipython",
    "version": 3
   },
   "file_extension": ".py",
   "mimetype": "text/x-python",
   "name": "python",
   "nbconvert_exporter": "python",
   "pygments_lexer": "ipython3",
   "version": "3.7.3"
  }
 },
 "nbformat": 4,
 "nbformat_minor": 2
}
